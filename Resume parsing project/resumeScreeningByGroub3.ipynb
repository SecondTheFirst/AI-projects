{
 "cells": [
  {
   "cell_type": "code",
   "execution_count": 89,
   "id": "statistical-humor",
   "metadata": {
    "ExecuteTime": {
     "end_time": "2021-12-18T20:32:31.509166Z",
     "start_time": "2021-12-18T20:32:31.464121Z"
    }
   },
   "outputs": [],
   "source": [
    "import pandas as pd\n",
    "import nltk\n",
    "import numpy as np\n",
    "import pandas as pd\n",
    "import matplotlib.pyplot as plt\n",
    "import warnings\n",
    "warnings.filterwarnings('ignore')\n",
    "from sklearn.naive_bayes import MultinomialNB\n",
    "from sklearn.multiclass import OneVsRestClassifier\n",
    "from sklearn import metrics\n",
    "from sklearn.metrics import accuracy_score\n",
    "from pandas.plotting import scatter_matrix\n",
    "from sklearn.neighbors import KNeighborsClassifier\n",
    "from sklearn import metrics\n",
    "\n",
    "url = \"UpdatedResumeDataSet.csv\"\n",
    "\n",
    "# Assign colum names to the dataset\n",
    "names = ['Category', 'Resume']\n",
    "\n",
    "# Read dataset to pandas dataframe\n",
    "df = pd.read_csv(url, names=names, header= 0)\n",
    "\n",
    "# Some elements of this projects are taken from: Gaurav Dutta\n",
    "# https://www.kaggle.com/gauravduttakiit\n",
    "\n",
    "# Check for further details\n",
    "# https://www.kaggle.com/gauravduttakiit/resume-screening-using-machine-learning/notebook"
   ]
  },
  {
   "cell_type": "code",
   "execution_count": 90,
   "id": "analyzed-korea",
   "metadata": {
    "ExecuteTime": {
     "end_time": "2021-12-18T20:32:33.840581Z",
     "start_time": "2021-12-18T20:32:33.826619Z"
    }
   },
   "outputs": [
    {
     "data": {
      "text/html": [
       "<div>\n",
       "<style scoped>\n",
       "    .dataframe tbody tr th:only-of-type {\n",
       "        vertical-align: middle;\n",
       "    }\n",
       "\n",
       "    .dataframe tbody tr th {\n",
       "        vertical-align: top;\n",
       "    }\n",
       "\n",
       "    .dataframe thead th {\n",
       "        text-align: right;\n",
       "    }\n",
       "</style>\n",
       "<table border=\"1\" class=\"dataframe\">\n",
       "  <thead>\n",
       "    <tr style=\"text-align: right;\">\n",
       "      <th></th>\n",
       "      <th>Category</th>\n",
       "      <th>Resume</th>\n",
       "    </tr>\n",
       "  </thead>\n",
       "  <tbody>\n",
       "    <tr>\n",
       "      <th>0</th>\n",
       "      <td>Data Science</td>\n",
       "      <td>Skills * Programming Languages: Python (pandas...</td>\n",
       "    </tr>\n",
       "    <tr>\n",
       "      <th>1</th>\n",
       "      <td>Data Science</td>\n",
       "      <td>Education Details \\r\\nMay 2013 to May 2017 B.E...</td>\n",
       "    </tr>\n",
       "    <tr>\n",
       "      <th>2</th>\n",
       "      <td>Data Science</td>\n",
       "      <td>Areas of Interest Deep Learning, Control Syste...</td>\n",
       "    </tr>\n",
       "    <tr>\n",
       "      <th>3</th>\n",
       "      <td>Data Science</td>\n",
       "      <td>Skills â¢ R â¢ Python â¢ SAP HANA â¢ Table...</td>\n",
       "    </tr>\n",
       "    <tr>\n",
       "      <th>4</th>\n",
       "      <td>Data Science</td>\n",
       "      <td>Education Details \\r\\n MCA   YMCAUST,  Faridab...</td>\n",
       "    </tr>\n",
       "    <tr>\n",
       "      <th>...</th>\n",
       "      <td>...</td>\n",
       "      <td>...</td>\n",
       "    </tr>\n",
       "    <tr>\n",
       "      <th>957</th>\n",
       "      <td>Testing</td>\n",
       "      <td>Computer Skills: â¢ Proficient in MS office (...</td>\n",
       "    </tr>\n",
       "    <tr>\n",
       "      <th>958</th>\n",
       "      <td>Testing</td>\n",
       "      <td>â Willingness to accept the challenges. â ...</td>\n",
       "    </tr>\n",
       "    <tr>\n",
       "      <th>959</th>\n",
       "      <td>Testing</td>\n",
       "      <td>PERSONAL SKILLS â¢ Quick learner, â¢ Eagerne...</td>\n",
       "    </tr>\n",
       "    <tr>\n",
       "      <th>960</th>\n",
       "      <td>Testing</td>\n",
       "      <td>COMPUTER SKILLS &amp; SOFTWARE KNOWLEDGE MS-Power ...</td>\n",
       "    </tr>\n",
       "    <tr>\n",
       "      <th>961</th>\n",
       "      <td>Testing</td>\n",
       "      <td>Skill Set OS Windows XP/7/8/8.1/10 Database MY...</td>\n",
       "    </tr>\n",
       "  </tbody>\n",
       "</table>\n",
       "<p>962 rows × 2 columns</p>\n",
       "</div>"
      ],
      "text/plain": [
       "         Category                                             Resume\n",
       "0    Data Science  Skills * Programming Languages: Python (pandas...\n",
       "1    Data Science  Education Details \\r\\nMay 2013 to May 2017 B.E...\n",
       "2    Data Science  Areas of Interest Deep Learning, Control Syste...\n",
       "3    Data Science  Skills â¢ R â¢ Python â¢ SAP HANA â¢ Table...\n",
       "4    Data Science  Education Details \\r\\n MCA   YMCAUST,  Faridab...\n",
       "..            ...                                                ...\n",
       "957       Testing  Computer Skills: â¢ Proficient in MS office (...\n",
       "958       Testing  â Willingness to accept the challenges. â ...\n",
       "959       Testing  PERSONAL SKILLS â¢ Quick learner, â¢ Eagerne...\n",
       "960       Testing  COMPUTER SKILLS & SOFTWARE KNOWLEDGE MS-Power ...\n",
       "961       Testing  Skill Set OS Windows XP/7/8/8.1/10 Database MY...\n",
       "\n",
       "[962 rows x 2 columns]"
      ]
     },
     "metadata": {},
     "output_type": "display_data"
    }
   ],
   "source": [
    "display(df)"
   ]
  },
  {
   "cell_type": "code",
   "execution_count": 91,
   "id": "leading-november",
   "metadata": {
    "ExecuteTime": {
     "end_time": "2021-12-18T20:32:36.196784Z",
     "start_time": "2021-12-18T20:32:36.182966Z"
    }
   },
   "outputs": [
    {
     "data": {
      "text/plain": [
       "array(['Data Science', 'HR', 'Advocate', 'Arts', 'Web Designing',\n",
       "       'Mechanical Engineer', 'Sales', 'Health and fitness',\n",
       "       'Civil Engineer', 'Java Developer', 'Business Analyst',\n",
       "       'SAP Developer', 'Automation Testing', 'Electrical Engineering',\n",
       "       'Operations Manager', 'Python Developer', 'DevOps Engineer',\n",
       "       'Network Security Engineer', 'PMO', 'Database', 'Hadoop',\n",
       "       'ETL Developer', 'DotNet Developer', 'Blockchain', 'Testing'],\n",
       "      dtype=object)"
      ]
     },
     "metadata": {},
     "output_type": "display_data"
    },
    {
     "name": "stdout",
     "output_type": "stream",
     "text": [
      "<class 'pandas.core.frame.DataFrame'>\n",
      "RangeIndex: 962 entries, 0 to 961\n",
      "Data columns (total 2 columns):\n",
      " #   Column    Non-Null Count  Dtype \n",
      "---  ------    --------------  ----- \n",
      " 0   Category  962 non-null    object\n",
      " 1   Resume    962 non-null    object\n",
      "dtypes: object(2)\n",
      "memory usage: 15.2+ KB\n"
     ]
    },
    {
     "data": {
      "text/plain": [
       "None"
      ]
     },
     "metadata": {},
     "output_type": "display_data"
    }
   ],
   "source": [
    "display(df.Category.unique())\n",
    "display(df.info())"
   ]
  },
  {
   "cell_type": "code",
   "execution_count": 92,
   "id": "elder-tribune",
   "metadata": {
    "ExecuteTime": {
     "end_time": "2021-12-18T20:32:38.371810Z",
     "start_time": "2021-12-18T20:32:38.357594Z"
    }
   },
   "outputs": [
    {
     "data": {
      "text/plain": [
       "'Areas of Interest Deep Learning, Control System Design, Programming in-Python, Electric Machinery, Web Development, Analytics Technical Activities q Hindustan Aeronautics Limited, Bangalore - For 4 weeks under the guidance of Mr. Satish, Senior Engineer in the hangar of Mirage 2000 fighter aircraft Technical Skills Programming Matlab, Python and Java, LabView, Python WebFrameWork-Django, Flask, LTSPICE-intermediate Languages and and MIPOWER-intermediate, Github (GitBash), Jupyter Notebook, Xampp, MySQL-Basics, Python Software Packages Interpreters-Anaconda, Python2, Python3, Pycharm, Java IDE-Eclipse Operating Systems Windows, Ubuntu, Debian-Kali Linux Education Details \\r\\nJanuary 2019 B.Tech. Electrical and Electronics Engineering  Manipal Institute of Technology\\r\\nJanuary 2015    DEEKSHA CENTER\\r\\nJanuary 2013    Little Flower Public School\\r\\nAugust 2000    Manipal Academy of Higher\\r\\nDATA SCIENCE \\r\\n\\r\\nDATA SCIENCE AND ELECTRICAL ENTHUSIAST\\r\\nSkill Details \\r\\nData Analysis- Exprience - Less than 1 year months\\r\\nexcel- Exprience - Less than 1 year months\\r\\nMachine Learning- Exprience - Less than 1 year months\\r\\nmathematics- Exprience - Less than 1 year months\\r\\nPython- Exprience - Less than 1 year months\\r\\nMatlab- Exprience - Less than 1 year months\\r\\nElectrical Engineering- Exprience - Less than 1 year months\\r\\nSql- Exprience - Less than 1 year monthsCompany Details \\r\\ncompany - THEMATHCOMPANY\\r\\ndescription - I am currently working with a Casino based operator(name not to be disclosed) in Macau.I need to segment the customers who visit their property based on the value the patrons bring into the company.Basically prove that the segmentation can be done in much better way than the current system which they have with proper numbers to back it up.Henceforth they can implement target marketing strategy to attract their customers who add value to the business.'"
      ]
     },
     "metadata": {},
     "output_type": "display_data"
    }
   ],
   "source": [
    "display(df['Resume'][2])"
   ]
  },
  {
   "cell_type": "code",
   "execution_count": 93,
   "id": "middle-beauty",
   "metadata": {
    "ExecuteTime": {
     "end_time": "2021-12-18T20:32:41.004254Z",
     "start_time": "2021-12-18T20:32:40.737890Z"
    },
    "scrolled": false
   },
   "outputs": [
    {
     "data": {
      "text/html": [
       "<div>\n",
       "<style scoped>\n",
       "    .dataframe tbody tr th:only-of-type {\n",
       "        vertical-align: middle;\n",
       "    }\n",
       "\n",
       "    .dataframe tbody tr th {\n",
       "        vertical-align: top;\n",
       "    }\n",
       "\n",
       "    .dataframe thead th {\n",
       "        text-align: right;\n",
       "    }\n",
       "</style>\n",
       "<table border=\"1\" class=\"dataframe\">\n",
       "  <thead>\n",
       "    <tr style=\"text-align: right;\">\n",
       "      <th></th>\n",
       "      <th>Category</th>\n",
       "      <th>Resume</th>\n",
       "      <th>cleaned_resume</th>\n",
       "    </tr>\n",
       "  </thead>\n",
       "  <tbody>\n",
       "    <tr>\n",
       "      <th>957</th>\n",
       "      <td>Testing</td>\n",
       "      <td>Computer Skills: â¢ Proficient in MS office (...</td>\n",
       "      <td>Computer Skills Proficient in MS office Word B...</td>\n",
       "    </tr>\n",
       "    <tr>\n",
       "      <th>958</th>\n",
       "      <td>Testing</td>\n",
       "      <td>â Willingness to accept the challenges. â ...</td>\n",
       "      <td>Willingness to a ept the challenges Positive ...</td>\n",
       "    </tr>\n",
       "    <tr>\n",
       "      <th>959</th>\n",
       "      <td>Testing</td>\n",
       "      <td>PERSONAL SKILLS â¢ Quick learner, â¢ Eagerne...</td>\n",
       "      <td>PERSONAL SKILLS Quick learner Eagerness to lea...</td>\n",
       "    </tr>\n",
       "    <tr>\n",
       "      <th>960</th>\n",
       "      <td>Testing</td>\n",
       "      <td>COMPUTER SKILLS &amp; SOFTWARE KNOWLEDGE MS-Power ...</td>\n",
       "      <td>COMPUTER SKILLS SOFTWARE KNOWLEDGE MS Power Po...</td>\n",
       "    </tr>\n",
       "    <tr>\n",
       "      <th>961</th>\n",
       "      <td>Testing</td>\n",
       "      <td>Skill Set OS Windows XP/7/8/8.1/10 Database MY...</td>\n",
       "      <td>Skill Set OS Windows XP 7 8 8 1 10 Database MY...</td>\n",
       "    </tr>\n",
       "  </tbody>\n",
       "</table>\n",
       "</div>"
      ],
      "text/plain": [
       "    Category                                             Resume  \\\n",
       "957  Testing  Computer Skills: â¢ Proficient in MS office (...   \n",
       "958  Testing  â Willingness to accept the challenges. â ...   \n",
       "959  Testing  PERSONAL SKILLS â¢ Quick learner, â¢ Eagerne...   \n",
       "960  Testing  COMPUTER SKILLS & SOFTWARE KNOWLEDGE MS-Power ...   \n",
       "961  Testing  Skill Set OS Windows XP/7/8/8.1/10 Database MY...   \n",
       "\n",
       "                                        cleaned_resume  \n",
       "957  Computer Skills Proficient in MS office Word B...  \n",
       "958   Willingness to a ept the challenges Positive ...  \n",
       "959  PERSONAL SKILLS Quick learner Eagerness to lea...  \n",
       "960  COMPUTER SKILLS SOFTWARE KNOWLEDGE MS Power Po...  \n",
       "961  Skill Set OS Windows XP 7 8 8 1 10 Database MY...  "
      ]
     },
     "execution_count": 93,
     "metadata": {},
     "output_type": "execute_result"
    }
   ],
   "source": [
    "# sens=[]\n",
    "# resume= df['Resume'][1].split(\"\\r\\n\" )\n",
    "# keywords = []\n",
    "# xx= []\n",
    "# x=\"\"\n",
    "# for sent in resume:\n",
    "#     while \"-\" in sent:\n",
    "#             sent = sent.replace(\"-\", \"\")\n",
    "#     for word in sent.split(\" \"):\n",
    "#         if(word.isalnum() or \":\" in word):\n",
    "#             keywords.append(word)\n",
    "#             x+=  word+ \" \"\n",
    "#     xx.append(x)\n",
    "#     x=\"\"\n",
    "# display(xx)\n",
    "\n",
    "\n",
    "\n",
    "## \n",
    "import re\n",
    "# taken from source\n",
    "def cleanResume(resumeText):\n",
    "    resumeText = re.sub('http\\S+\\s*', ' ', resumeText)  # remove URLs\n",
    "    resumeText = re.sub('RT|cc', ' ', resumeText)  # remove RT and cc\n",
    "    resumeText = re.sub('#\\S+', '', resumeText)  # remove hashtags\n",
    "    resumeText = re.sub('@\\S+', '  ', resumeText)  # remove mentions\n",
    "    resumeText = re.sub('[%s]' % re.escape(\"\"\"!\"#$%&'()*+,-./:;<=>?@[\\]^_`{|}~\"\"\"), ' ', resumeText)  # remove punctuations\n",
    "    resumeText = re.sub(r'[^\\x00-\\x7f]',r' ', resumeText) \n",
    "    resumeText = re.sub('\\s+', ' ', resumeText)  # remove extra whitespace\n",
    "    return resumeText\n",
    "    \n",
    "df['cleaned_resume'] = df.Resume.apply(lambda x: cleanResume(x))\n",
    "df.tail()\n"
   ]
  },
  {
   "cell_type": "code",
   "execution_count": 94,
   "id": "irish-phenomenon",
   "metadata": {
    "ExecuteTime": {
     "end_time": "2021-12-18T20:32:44.969679Z",
     "start_time": "2021-12-18T20:32:43.319237Z"
    },
    "scrolled": false
   },
   "outputs": [
    {
     "name": "stdout",
     "output_type": "stream",
     "text": [
      "962\n",
      "[('Details', 452), ('Exprience', 402), ('months', 340), ('company', 300), ('description', 280), ('1', 256), ('year', 224), ('January', 206), ('Data', 200), ('Less', 196), ('data', 182), ('Python', 156), ('Skill', 156), ('Science', 154), ('6', 148), ('I', 142), ('Maharashtra', 142), ('Education', 134), ('College', 130), ('like', 122), ('The', 118), ('Learning', 116), ('Machine', 112), ('India', 112), ('University', 102), ('using', 100), ('project', 100), ('monthsCompany', 94), ('learning', 90), ('Arts', 90), ('B', 88), ('C', 86), ('Mumbai', 86), ('SQL', 80), ('A', 78), ('Responsibilities', 76), ('Pune', 74), ('time', 72), ('various', 72), ('Engineering', 72), ('Project', 72), ('projects', 72), ('development', 70), ('Web', 70), ('Management', 70), ('Council', 70), ('SAP', 68), ('knowledge', 66), ('Company', 66), ('Skills', 64)]\n"
     ]
    }
   ],
   "source": [
    "# conda install -c conda-forge wordcloud\n",
    "# taken from source with some modification\n",
    "import nltk\n",
    "from nltk.corpus import stopwords\n",
    "import string\n",
    "from wordcloud import WordCloud\n",
    "\n",
    "print(len(df.Resume)) #num of resumes\n",
    "\n",
    "oneSetOfStopWords = set(stopwords.words('english')+['``',\"''\"])\n",
    "totalWords =[]\n",
    "Sentences = df['Resume'].values\n",
    "cleanedSentences = \"\"\n",
    "# for i in range(1,len(df.Resume)): # for all data\n",
    "for i in range(0, 150):\n",
    "    cleanedText = cleanResume(Sentences[i])\n",
    "    cleanedSentences += cleanedText\n",
    "    requiredWords = nltk.word_tokenize(cleanedText)\n",
    "    for word in requiredWords:\n",
    "        if word not in oneSetOfStopWords and word not in string.punctuation:\n",
    "            totalWords.append(word)\n",
    "    wordfreqdist = nltk.FreqDist(totalWords)## freq using dict\n",
    "    mostcommon = wordfreqdist.most_common(50)##top 50\n",
    "    \n",
    "    '''\n",
    "   #Print each candidates's most common words\n",
    "    print(\"Candidate number: \",i)\n",
    "    print(mostcommon)\n",
    "    print(\"\\n\\n\\n\")\n",
    "    mostcommon.clear()\n",
    "#    '''\n",
    "    \n",
    "## for all    \n",
    "wordfreqdist = nltk.FreqDist(totalWords)\n",
    "mostcommon = wordfreqdist.most_common(50)\n",
    "# print(string.punctuation)\n",
    "print(mostcommon)\n",
    "\n",
    "\n"
   ]
  },
  {
   "cell_type": "code",
   "execution_count": 95,
   "id": "interior-garbage",
   "metadata": {
    "ExecuteTime": {
     "end_time": "2021-12-18T20:32:47.291961Z",
     "start_time": "2021-12-18T20:32:47.277703Z"
    }
   },
   "outputs": [],
   "source": [
    "from sklearn.preprocessing import LabelEncoder\n",
    "\n",
    "df['CategoryLabel']= df['Category'].copy()\n",
    "var_mod = ['Category']\n",
    "le = LabelEncoder()\n",
    "for i in var_mod:\n",
    "    df[i] = le.fit_transform(df[i])"
   ]
  },
  {
   "cell_type": "code",
   "execution_count": 96,
   "id": "sustained-marriage",
   "metadata": {
    "ExecuteTime": {
     "end_time": "2021-12-18T20:32:49.334484Z",
     "start_time": "2021-12-18T20:32:49.320524Z"
    }
   },
   "outputs": [
    {
     "data": {
      "text/plain": [
       "[['Skills Python Tableau Data Visualization R Studio Machine Learning Statistics IABAC Certified Data Scientist with versatile experience over 1 years in managing business data science consulting and leading innovation projects bringing business ideas to working real world solutions Being a strong advocator of augmented era where human capabilities are enhanced by machines Fahed is passionate about bringing business concepts in area of machine learning AI robotics etc to real life solutions Education Details January 2017 B Tech Computer Science Engineering Mohali Punjab Indo Global College of Engineering Data Science Consultant Data Science Consultant Datamites Skill Details MACHINE LEARNING Exprience 13 months PYTHON Exprience 24 months SOLUTIONS Exprience 24 months DATA SCIENCE Exprience 24 months DATA VISUALIZATION Exprience 24 months Tableau Exprience 24 monthsCompany Details company Datamites description Analyzed and processed complex data sets using advanced querying visualization and analytics tools Responsible for loading extracting and validation of client data Worked on manipulating cleaning processing data using python Used Tableau for data visualization company Heretic Solutions Pvt Ltd description Worked closely with business to identify issues and used data to propose solutions for effective decision making Manipulating cleansing processing data using Python Excel and R Analyzed raw data drawing conclusions developing recommendations Used machine learning tools and statistical techniques to produce solutions to problems ']]"
      ]
     },
     "metadata": {},
     "output_type": "display_data"
    }
   ],
   "source": [
    "sens=[]\n",
    "resume= df['cleaned_resume'][6].split(\"\\r\\n\")\n",
    "\n",
    "# display(resume)\n",
    "# if(resume[0].startswith(\"â\")):\n",
    "#     resume[0].startswith(\"â\", \"\")\n",
    "# display(resume)\n",
    "# for x in range(len(resume)):\n",
    "#     if(x.in)\n",
    "for sen in resume:\n",
    "    if(sen != \" \" or sen != \"\"):\n",
    "        sens.append(sen.split(\" * \"or\" *\"or \"*\" or \"* \"))\n",
    "# sens.pop()\n",
    "\n",
    "display(sens)\n",
    "\n"
   ]
  },
  {
   "cell_type": "code",
   "execution_count": 97,
   "id": "separate-pathology",
   "metadata": {
    "ExecuteTime": {
     "end_time": "2021-12-18T20:32:51.389097Z",
     "start_time": "2021-12-18T20:32:51.375068Z"
    }
   },
   "outputs": [
    {
     "data": {
      "text/html": [
       "<div>\n",
       "<style scoped>\n",
       "    .dataframe tbody tr th:only-of-type {\n",
       "        vertical-align: middle;\n",
       "    }\n",
       "\n",
       "    .dataframe tbody tr th {\n",
       "        vertical-align: top;\n",
       "    }\n",
       "\n",
       "    .dataframe thead th {\n",
       "        text-align: right;\n",
       "    }\n",
       "</style>\n",
       "<table border=\"1\" class=\"dataframe\">\n",
       "  <thead>\n",
       "    <tr style=\"text-align: right;\">\n",
       "      <th></th>\n",
       "      <th>Category</th>\n",
       "      <th>Resume</th>\n",
       "      <th>cleaned_resume</th>\n",
       "      <th>CategoryLabel</th>\n",
       "    </tr>\n",
       "  </thead>\n",
       "  <tbody>\n",
       "    <tr>\n",
       "      <th>0</th>\n",
       "      <td>6</td>\n",
       "      <td>Skills * Programming Languages: Python (pandas...</td>\n",
       "      <td>Skills Programming Languages Python pandas num...</td>\n",
       "      <td>Data Science</td>\n",
       "    </tr>\n",
       "    <tr>\n",
       "      <th>1</th>\n",
       "      <td>6</td>\n",
       "      <td>Education Details \\r\\nMay 2013 to May 2017 B.E...</td>\n",
       "      <td>Education Details May 2013 to May 2017 B E UIT...</td>\n",
       "      <td>Data Science</td>\n",
       "    </tr>\n",
       "    <tr>\n",
       "      <th>2</th>\n",
       "      <td>6</td>\n",
       "      <td>Areas of Interest Deep Learning, Control Syste...</td>\n",
       "      <td>Areas of Interest Deep Learning Control System...</td>\n",
       "      <td>Data Science</td>\n",
       "    </tr>\n",
       "    <tr>\n",
       "      <th>3</th>\n",
       "      <td>6</td>\n",
       "      <td>Skills â¢ R â¢ Python â¢ SAP HANA â¢ Table...</td>\n",
       "      <td>Skills R Python SAP HANA Tableau SAP HANA SQL ...</td>\n",
       "      <td>Data Science</td>\n",
       "    </tr>\n",
       "    <tr>\n",
       "      <th>4</th>\n",
       "      <td>6</td>\n",
       "      <td>Education Details \\r\\n MCA   YMCAUST,  Faridab...</td>\n",
       "      <td>Education Details MCA YMCAUST Faridabad Haryan...</td>\n",
       "      <td>Data Science</td>\n",
       "    </tr>\n",
       "  </tbody>\n",
       "</table>\n",
       "</div>"
      ],
      "text/plain": [
       "   Category                                             Resume  \\\n",
       "0         6  Skills * Programming Languages: Python (pandas...   \n",
       "1         6  Education Details \\r\\nMay 2013 to May 2017 B.E...   \n",
       "2         6  Areas of Interest Deep Learning, Control Syste...   \n",
       "3         6  Skills â¢ R â¢ Python â¢ SAP HANA â¢ Table...   \n",
       "4         6  Education Details \\r\\n MCA   YMCAUST,  Faridab...   \n",
       "\n",
       "                                      cleaned_resume CategoryLabel  \n",
       "0  Skills Programming Languages Python pandas num...  Data Science  \n",
       "1  Education Details May 2013 to May 2017 B E UIT...  Data Science  \n",
       "2  Areas of Interest Deep Learning Control System...  Data Science  \n",
       "3  Skills R Python SAP HANA Tableau SAP HANA SQL ...  Data Science  \n",
       "4  Education Details MCA YMCAUST Faridabad Haryan...  Data Science  "
      ]
     },
     "execution_count": 97,
     "metadata": {},
     "output_type": "execute_result"
    }
   ],
   "source": [
    "df.head()"
   ]
  },
  {
   "cell_type": "code",
   "execution_count": 98,
   "id": "infectious-literature",
   "metadata": {
    "ExecuteTime": {
     "end_time": "2021-12-18T20:32:53.510060Z",
     "start_time": "2021-12-18T20:32:53.495047Z"
    },
    "scrolled": false
   },
   "outputs": [],
   "source": [
    "# for explaination only\n",
    "dff= df.copy()\n",
    "dff.Category.value_counts()\n",
    "del dff"
   ]
  },
  {
   "cell_type": "code",
   "execution_count": 99,
   "id": "explicit-university",
   "metadata": {
    "ExecuteTime": {
     "end_time": "2021-12-18T20:32:55.565172Z",
     "start_time": "2021-12-18T20:32:55.554866Z"
    }
   },
   "outputs": [
    {
     "data": {
      "text/plain": [
       "15    84\n",
       "23    70\n",
       "8     55\n",
       "20    48\n",
       "24    45\n",
       "12    44\n",
       "13    42\n",
       "6     40\n",
       "18    40\n",
       "22    40\n",
       "3     40\n",
       "10    40\n",
       "16    40\n",
       "1     36\n",
       "7     33\n",
       "11    30\n",
       "14    30\n",
       "19    30\n",
       "4     28\n",
       "9     28\n",
       "2     26\n",
       "17    25\n",
       "21    24\n",
       "5     24\n",
       "0     20\n",
       "Name: Category, dtype: int64"
      ]
     },
     "execution_count": 99,
     "metadata": {},
     "output_type": "execute_result"
    }
   ],
   "source": [
    "df.Category.value_counts()\n"
   ]
  },
  {
   "cell_type": "code",
   "execution_count": 100,
   "id": "binary-luther",
   "metadata": {
    "ExecuteTime": {
     "end_time": "2021-12-18T20:32:57.650932Z",
     "start_time": "2021-12-18T20:32:57.636031Z"
    }
   },
   "outputs": [
    {
     "data": {
      "text/html": [
       "<div>\n",
       "<style scoped>\n",
       "    .dataframe tbody tr th:only-of-type {\n",
       "        vertical-align: middle;\n",
       "    }\n",
       "\n",
       "    .dataframe tbody tr th {\n",
       "        vertical-align: top;\n",
       "    }\n",
       "\n",
       "    .dataframe thead th {\n",
       "        text-align: right;\n",
       "    }\n",
       "</style>\n",
       "<table border=\"1\" class=\"dataframe\">\n",
       "  <thead>\n",
       "    <tr style=\"text-align: right;\">\n",
       "      <th></th>\n",
       "      <th>Category</th>\n",
       "      <th>Resume</th>\n",
       "      <th>cleaned_resume</th>\n",
       "      <th>CategoryLabel</th>\n",
       "    </tr>\n",
       "  </thead>\n",
       "  <tbody>\n",
       "    <tr>\n",
       "      <th>241</th>\n",
       "      <td>22</td>\n",
       "      <td>SKILLS 1. MS-Office 2. Good Communication skil...</td>\n",
       "      <td>SKILLS 1 MS Office 2 Good Communication skills...</td>\n",
       "      <td>Sales</td>\n",
       "    </tr>\n",
       "    <tr>\n",
       "      <th>894</th>\n",
       "      <td>23</td>\n",
       "      <td>Computer Skills: â¢ Proficient in MS office (...</td>\n",
       "      <td>Computer Skills Proficient in MS office Word B...</td>\n",
       "      <td>Testing</td>\n",
       "    </tr>\n",
       "    <tr>\n",
       "      <th>920</th>\n",
       "      <td>23</td>\n",
       "      <td>â¢ Good logical and analytical skills â¢ Pos...</td>\n",
       "      <td>Good logical and analytical skills Positive a...</td>\n",
       "      <td>Testing</td>\n",
       "    </tr>\n",
       "    <tr>\n",
       "      <th>850</th>\n",
       "      <td>9</td>\n",
       "      <td>Technical Skills CATEGORY SKILLS Language C, C...</td>\n",
       "      <td>Technical Skills CATEGORY SKILLS Language C C ...</td>\n",
       "      <td>DotNet Developer</td>\n",
       "    </tr>\n",
       "    <tr>\n",
       "      <th>18</th>\n",
       "      <td>6</td>\n",
       "      <td>Personal Skills â¢ Ability to quickly grasp t...</td>\n",
       "      <td>Personal Skills Ability to quickly grasp techn...</td>\n",
       "      <td>Data Science</td>\n",
       "    </tr>\n",
       "    <tr>\n",
       "      <th>162</th>\n",
       "      <td>24</td>\n",
       "      <td>Technical Skills Web Technologies: Angular JS,...</td>\n",
       "      <td>Technical Skills Web Technologies Angular JS H...</td>\n",
       "      <td>Web Designing</td>\n",
       "    </tr>\n",
       "    <tr>\n",
       "      <th>90</th>\n",
       "      <td>0</td>\n",
       "      <td>Skills: Natural Languages: Proficient in Engli...</td>\n",
       "      <td>Skills Natural Languages Proficient in English...</td>\n",
       "      <td>Advocate</td>\n",
       "    </tr>\n",
       "    <tr>\n",
       "      <th>156</th>\n",
       "      <td>24</td>\n",
       "      <td>Education Details \\r\\n B.C.A Bachelor Computer...</td>\n",
       "      <td>Education Details B C A Bachelor Computer Appl...</td>\n",
       "      <td>Web Designing</td>\n",
       "    </tr>\n",
       "    <tr>\n",
       "      <th>562</th>\n",
       "      <td>20</td>\n",
       "      <td>â¢ Operating Systems: Windows â¢ Others: MS ...</td>\n",
       "      <td>Operating Systems Windows Others MS Excel MS ...</td>\n",
       "      <td>Python Developer</td>\n",
       "    </tr>\n",
       "    <tr>\n",
       "      <th>419</th>\n",
       "      <td>4</td>\n",
       "      <td>Key Skills - Requirement Gathering - Requireme...</td>\n",
       "      <td>Key Skills Requirement Gathering Requirement A...</td>\n",
       "      <td>Business Analyst</td>\n",
       "    </tr>\n",
       "    <tr>\n",
       "      <th>404</th>\n",
       "      <td>4</td>\n",
       "      <td>Technical Skills Application Servers: IIS 6.0,...</td>\n",
       "      <td>Technical Skills Application Servers IIS 6 0 J...</td>\n",
       "      <td>Business Analyst</td>\n",
       "    </tr>\n",
       "    <tr>\n",
       "      <th>899</th>\n",
       "      <td>23</td>\n",
       "      <td>â¢ Good logical and analytical skills â¢ Pos...</td>\n",
       "      <td>Good logical and analytical skills Positive a...</td>\n",
       "      <td>Testing</td>\n",
       "    </tr>\n",
       "    <tr>\n",
       "      <th>303</th>\n",
       "      <td>5</td>\n",
       "      <td>SKILLS â¢ 1.Autocad â¢ 2.Pro v â¢ 3.Catia â...</td>\n",
       "      <td>SKILLS 1 Autocad 2 Pro v 3 Catia 4 word excel ...</td>\n",
       "      <td>Civil Engineer</td>\n",
       "    </tr>\n",
       "    <tr>\n",
       "      <th>852</th>\n",
       "      <td>3</td>\n",
       "      <td>Hobbies â¢ Playing Chess â¢ Solving Rubik's ...</td>\n",
       "      <td>Hobbies Playing Chess Solving Rubik s Cube Wat...</td>\n",
       "      <td>Blockchain</td>\n",
       "    </tr>\n",
       "    <tr>\n",
       "      <th>520</th>\n",
       "      <td>18</td>\n",
       "      <td>KEY COMPETENCIES â¶Multi - Operations Managem...</td>\n",
       "      <td>KEY COMPETENCIES Multi Operations Management P...</td>\n",
       "      <td>Operations Manager</td>\n",
       "    </tr>\n",
       "    <tr>\n",
       "      <th>767</th>\n",
       "      <td>13</td>\n",
       "      <td>Technical Skill Set: Programming Languages Apa...</td>\n",
       "      <td>Technical Skill Set Programming Languages Apac...</td>\n",
       "      <td>Hadoop</td>\n",
       "    </tr>\n",
       "    <tr>\n",
       "      <th>220</th>\n",
       "      <td>16</td>\n",
       "      <td>Education Details \\r\\nMay 1999 to September 20...</td>\n",
       "      <td>Education Details May 1999 to September 2002 D...</td>\n",
       "      <td>Mechanical Engineer</td>\n",
       "    </tr>\n",
       "    <tr>\n",
       "      <th>19</th>\n",
       "      <td>6</td>\n",
       "      <td>Expertise â Data and Quantitative Analysis â...</td>\n",
       "      <td>Expertise Data and Quantitative Analysis Decis...</td>\n",
       "      <td>Data Science</td>\n",
       "    </tr>\n",
       "    <tr>\n",
       "      <th>669</th>\n",
       "      <td>17</td>\n",
       "      <td>Skill Set â¢ Experience in Implementing, and ...</td>\n",
       "      <td>Skill Set Experience in Implementing and troub...</td>\n",
       "      <td>Network Security Engineer</td>\n",
       "    </tr>\n",
       "    <tr>\n",
       "      <th>28</th>\n",
       "      <td>6</td>\n",
       "      <td>Personal Skills â¢ Ability to quickly grasp t...</td>\n",
       "      <td>Personal Skills Ability to quickly grasp techn...</td>\n",
       "      <td>Data Science</td>\n",
       "    </tr>\n",
       "  </tbody>\n",
       "</table>\n",
       "</div>"
      ],
      "text/plain": [
       "     Category                                             Resume  \\\n",
       "241        22  SKILLS 1. MS-Office 2. Good Communication skil...   \n",
       "894        23  Computer Skills: â¢ Proficient in MS office (...   \n",
       "920        23  â¢ Good logical and analytical skills â¢ Pos...   \n",
       "850         9  Technical Skills CATEGORY SKILLS Language C, C...   \n",
       "18          6  Personal Skills â¢ Ability to quickly grasp t...   \n",
       "162        24  Technical Skills Web Technologies: Angular JS,...   \n",
       "90          0  Skills: Natural Languages: Proficient in Engli...   \n",
       "156        24  Education Details \\r\\n B.C.A Bachelor Computer...   \n",
       "562        20  â¢ Operating Systems: Windows â¢ Others: MS ...   \n",
       "419         4  Key Skills - Requirement Gathering - Requireme...   \n",
       "404         4  Technical Skills Application Servers: IIS 6.0,...   \n",
       "899        23  â¢ Good logical and analytical skills â¢ Pos...   \n",
       "303         5  SKILLS â¢ 1.Autocad â¢ 2.Pro v â¢ 3.Catia â...   \n",
       "852         3  Hobbies â¢ Playing Chess â¢ Solving Rubik's ...   \n",
       "520        18  KEY COMPETENCIES â¶Multi - Operations Managem...   \n",
       "767        13  Technical Skill Set: Programming Languages Apa...   \n",
       "220        16  Education Details \\r\\nMay 1999 to September 20...   \n",
       "19          6  Expertise â Data and Quantitative Analysis â...   \n",
       "669        17  Skill Set â¢ Experience in Implementing, and ...   \n",
       "28          6  Personal Skills â¢ Ability to quickly grasp t...   \n",
       "\n",
       "                                        cleaned_resume  \\\n",
       "241  SKILLS 1 MS Office 2 Good Communication skills...   \n",
       "894  Computer Skills Proficient in MS office Word B...   \n",
       "920   Good logical and analytical skills Positive a...   \n",
       "850  Technical Skills CATEGORY SKILLS Language C C ...   \n",
       "18   Personal Skills Ability to quickly grasp techn...   \n",
       "162  Technical Skills Web Technologies Angular JS H...   \n",
       "90   Skills Natural Languages Proficient in English...   \n",
       "156  Education Details B C A Bachelor Computer Appl...   \n",
       "562   Operating Systems Windows Others MS Excel MS ...   \n",
       "419  Key Skills Requirement Gathering Requirement A...   \n",
       "404  Technical Skills Application Servers IIS 6 0 J...   \n",
       "899   Good logical and analytical skills Positive a...   \n",
       "303  SKILLS 1 Autocad 2 Pro v 3 Catia 4 word excel ...   \n",
       "852  Hobbies Playing Chess Solving Rubik s Cube Wat...   \n",
       "520  KEY COMPETENCIES Multi Operations Management P...   \n",
       "767  Technical Skill Set Programming Languages Apac...   \n",
       "220  Education Details May 1999 to September 2002 D...   \n",
       "19   Expertise Data and Quantitative Analysis Decis...   \n",
       "669  Skill Set Experience in Implementing and troub...   \n",
       "28   Personal Skills Ability to quickly grasp techn...   \n",
       "\n",
       "                 CategoryLabel  \n",
       "241                      Sales  \n",
       "894                    Testing  \n",
       "920                    Testing  \n",
       "850           DotNet Developer  \n",
       "18                Data Science  \n",
       "162              Web Designing  \n",
       "90                    Advocate  \n",
       "156              Web Designing  \n",
       "562           Python Developer  \n",
       "419           Business Analyst  \n",
       "404           Business Analyst  \n",
       "899                    Testing  \n",
       "303             Civil Engineer  \n",
       "852                 Blockchain  \n",
       "520         Operations Manager  \n",
       "767                     Hadoop  \n",
       "220        Mechanical Engineer  \n",
       "19                Data Science  \n",
       "669  Network Security Engineer  \n",
       "28                Data Science  "
      ]
     },
     "execution_count": 100,
     "metadata": {},
     "output_type": "execute_result"
    }
   ],
   "source": [
    "df.sample(20)\n",
    "\n"
   ]
  },
  {
   "cell_type": "code",
   "execution_count": null,
   "id": "intellectual-intelligence",
   "metadata": {},
   "outputs": [],
   "source": []
  },
  {
   "cell_type": "code",
   "execution_count": 101,
   "id": "spiritual-handle",
   "metadata": {
    "ExecuteTime": {
     "end_time": "2021-12-18T20:32:59.764536Z",
     "start_time": "2021-12-18T20:32:59.718599Z"
    },
    "scrolled": false
   },
   "outputs": [
    {
     "name": "stdout",
     "output_type": "stream",
     "text": [
      "Not Stuffers % :  75.36382536382537\n",
      "Stuffers:  237\n",
      "Not Stuffers:  725\n"
     ]
    },
    {
     "data": {
      "text/html": [
       "<div>\n",
       "<style scoped>\n",
       "    .dataframe tbody tr th:only-of-type {\n",
       "        vertical-align: middle;\n",
       "    }\n",
       "\n",
       "    .dataframe tbody tr th {\n",
       "        vertical-align: top;\n",
       "    }\n",
       "\n",
       "    .dataframe thead th {\n",
       "        text-align: right;\n",
       "    }\n",
       "</style>\n",
       "<table border=\"1\" class=\"dataframe\">\n",
       "  <thead>\n",
       "    <tr style=\"text-align: right;\">\n",
       "      <th></th>\n",
       "      <th>Category</th>\n",
       "      <th>Resume</th>\n",
       "      <th>cleaned_resume</th>\n",
       "      <th>CategoryLabel</th>\n",
       "      <th>result</th>\n",
       "      <th>skill freq</th>\n",
       "      <th>words freq</th>\n",
       "    </tr>\n",
       "  </thead>\n",
       "  <tbody>\n",
       "    <tr>\n",
       "      <th>0</th>\n",
       "      <td>6</td>\n",
       "      <td>Skills * Programming Languages: Python (pandas...</td>\n",
       "      <td>Skills Programming Languages Python pandas num...</td>\n",
       "      <td>Data Science</td>\n",
       "      <td>Not Stuffer</td>\n",
       "      <td>85</td>\n",
       "      <td>537</td>\n",
       "    </tr>\n",
       "    <tr>\n",
       "      <th>1</th>\n",
       "      <td>6</td>\n",
       "      <td>Education Details \\r\\nMay 2013 to May 2017 B.E...</td>\n",
       "      <td>Education Details May 2013 to May 2017 B E UIT...</td>\n",
       "      <td>Data Science</td>\n",
       "      <td>Not Stuffer</td>\n",
       "      <td>1</td>\n",
       "      <td>96</td>\n",
       "    </tr>\n",
       "    <tr>\n",
       "      <th>2</th>\n",
       "      <td>6</td>\n",
       "      <td>Areas of Interest Deep Learning, Control Syste...</td>\n",
       "      <td>Areas of Interest Deep Learning Control System...</td>\n",
       "      <td>Data Science</td>\n",
       "      <td>Not Stuffer</td>\n",
       "      <td>87</td>\n",
       "      <td>81</td>\n",
       "    </tr>\n",
       "    <tr>\n",
       "      <th>3</th>\n",
       "      <td>6</td>\n",
       "      <td>Skills â¢ R â¢ Python â¢ SAP HANA â¢ Table...</td>\n",
       "      <td>Skills R Python SAP HANA Tableau SAP HANA SQL ...</td>\n",
       "      <td>Data Science</td>\n",
       "      <td>Stuffer</td>\n",
       "      <td>32</td>\n",
       "      <td>809</td>\n",
       "    </tr>\n",
       "    <tr>\n",
       "      <th>4</th>\n",
       "      <td>6</td>\n",
       "      <td>Education Details \\r\\n MCA   YMCAUST,  Faridab...</td>\n",
       "      <td>Education Details MCA YMCAUST Faridabad Haryan...</td>\n",
       "      <td>Data Science</td>\n",
       "      <td>Not Stuffer</td>\n",
       "      <td>1</td>\n",
       "      <td>2</td>\n",
       "    </tr>\n",
       "  </tbody>\n",
       "</table>\n",
       "</div>"
      ],
      "text/plain": [
       "   Category                                             Resume  \\\n",
       "0         6  Skills * Programming Languages: Python (pandas...   \n",
       "1         6  Education Details \\r\\nMay 2013 to May 2017 B.E...   \n",
       "2         6  Areas of Interest Deep Learning, Control Syste...   \n",
       "3         6  Skills â¢ R â¢ Python â¢ SAP HANA â¢ Table...   \n",
       "4         6  Education Details \\r\\n MCA   YMCAUST,  Faridab...   \n",
       "\n",
       "                                      cleaned_resume CategoryLabel  \\\n",
       "0  Skills Programming Languages Python pandas num...  Data Science   \n",
       "1  Education Details May 2013 to May 2017 B E UIT...  Data Science   \n",
       "2  Areas of Interest Deep Learning Control System...  Data Science   \n",
       "3  Skills R Python SAP HANA Tableau SAP HANA SQL ...  Data Science   \n",
       "4  Education Details MCA YMCAUST Faridabad Haryan...  Data Science   \n",
       "\n",
       "        result  skill freq  words freq  \n",
       "0  Not Stuffer          85         537  \n",
       "1  Not Stuffer           1          96  \n",
       "2  Not Stuffer          87          81  \n",
       "3      Stuffer          32         809  \n",
       "4  Not Stuffer           1           2  "
      ]
     },
     "execution_count": 101,
     "metadata": {},
     "output_type": "execute_result"
    }
   ],
   "source": [
    "stuffers = []\n",
    "wordsList= []\n",
    "skills=[]\n",
    "\n",
    " \n",
    "\n",
    "'''\n",
    "#string[0] ==> before Skill details (ALL SKILLS!)\n",
    "#string[1] ==> after Skill details & before desc ==> excluded\n",
    "#string[2] ==> after desc (ALL words)\n",
    "'''\n",
    "\n",
    " \n",
    "\n",
    "## testting\n",
    "# string = str(df[\"cleaned_resume\"][0]).lower().replace(\"skill details\", \"description\").split(\"description\")\n",
    "# print(string[0])\n",
    "\n",
    " \n",
    "\n",
    "\n",
    "# '''\n",
    "for resume in df[\"cleaned_resume\"]:\n",
    "    string = str(resume).lower().replace(\"skill details\", \"description\").split(\"description\", 2)\n",
    "    string[0] = string[0].split(\"education\")[0]\n",
    "    try:\n",
    "        numSkill= len(string[0].split(\" \"))\n",
    "        numWords= len(string[2].split(\" \"))\n",
    "        wordsList.append(numWords)\n",
    "        skills.append(numSkill)\n",
    "        if numWords < 600 and numSkill < 125:\n",
    "            stuffers.append(\"Not Stuffer\")\n",
    "        else:\n",
    "            stuffers.append(\"Stuffer\")\n",
    "    except:\n",
    "        sutffers.append(\"Stuffer\")\n",
    "        \n",
    "count = 0       \n",
    "for stuffer in stuffers:\n",
    "    if stuffer == \"Not Stuffer\":\n",
    "        count += 1\n",
    "print(\"Not Stuffers % : \",count/len(stuffers)*100)\n",
    "df['result']= stuffers\n",
    "df['skill freq']= skills\n",
    "df['words freq']= wordsList\n",
    "\n",
    " \n",
    "\n",
    "print(\"Stuffers: \",stuffers.count(\"Stuffer\"))\n",
    "print(\"Not Stuffers: \",stuffers.count(\"Not Stuffer\"))\n",
    "\n",
    " \n",
    "\n",
    "df.head()\n",
    "# '''"
   ]
  },
  {
   "cell_type": "code",
   "execution_count": 102,
   "id": "independent-softball",
   "metadata": {
    "ExecuteTime": {
     "end_time": "2021-12-18T20:33:01.819148Z",
     "start_time": "2021-12-18T20:33:01.804848Z"
    },
    "scrolled": true
   },
   "outputs": [],
   "source": [
    "# sens=[]\n",
    "# resume= df['cleaned_resume'][0].split(\"\\r\\n\")\n",
    "\n",
    "# # display(resume)\n",
    "# # if(resume[0].startswith(\"â\")):\n",
    "# #     resume[0].startswith(\"â\", \"\")\n",
    "# # display(resume)\n",
    "# # for x in range(len(resume)):\n",
    "# #     if(x.in)\n",
    "# for sen in resume:\n",
    "#     if(sen != \" \" or sen != \"\"):\n",
    "#         sens.append(sen.split(\" * \"or\" *\"or \"*\" or \"* \"))\n",
    "# # sens.pop()\n",
    "\n",
    "# display(sens)\n",
    "\n"
   ]
  },
  {
   "cell_type": "code",
   "execution_count": 103,
   "id": "checked-xerox",
   "metadata": {
    "ExecuteTime": {
     "end_time": "2021-12-18T20:33:04.203530Z",
     "start_time": "2021-12-18T20:33:03.826610Z"
    }
   },
   "outputs": [
    {
     "data": {
      "image/png": "[encoded data removed]",
      "text/plain": [
       "<Figure size 450.5x360 with 1 Axes>"
      ]
     },
     "metadata": {
      "needs_background": "light"
     },
     "output_type": "display_data"
    }
   ],
   "source": [
    "import seaborn as sns\n",
    "import numpy as np\n",
    "from sklearn import svm\n",
    "import matplotlib.pyplot as plt\n",
    "\n",
    "\n",
    "sns.lmplot(x='skill freq', y= 'words freq',  data=df, hue='result',\n",
    "           palette='Set1', fit_reg=False, scatter_kws={\"s\": 10});"
   ]
  },
  {
   "cell_type": "code",
   "execution_count": 104,
   "id": "grave-campus",
   "metadata": {
    "ExecuteTime": {
     "end_time": "2021-12-18T20:33:06.221284Z",
     "start_time": "2021-12-18T20:33:06.207059Z"
    }
   },
   "outputs": [
    {
     "name": "stdout",
     "output_type": "stream",
     "text": [
      "skill freq     32\n",
      "words freq    809\n",
      "Name: 3, dtype: int64\n",
      "[0 0 0 1 0 0 0 1 0 0 0 0 0 1 0 0 0 1 0 0 0 0 0 1 0 0 0 1 0 0 0 0 0 1 0 0 0\n",
      " 1 0 0 0 0 0 0 0 0 0 0 0 0 0 0 0 0 0 0 0 0 0 0 0 0 0 0 0 0 0 0 0 0 0 0 0 0\n",
      " 0 0 0 0 0 0 0 0 0 0 0 0 0 0 0 0 0 0 0 0 0 0 0 0 0 0 0 0 0 0 0 0 1 0 0 0 0\n",
      " 0 1 0 0 0 0 0 1 0 0 0 0 0 1 0 0 0 0 0 1 0 0 0 0 0 1 0 0 0 0 0 0 0 0 0 0 0\n",
      " 0 0 0 0 0 0 0 0 0 0 0 0 0 0 0 0 0 0 0 0 0 0 0 0 0 0 0 0 0 0 0 0 0 0 0 0 0\n",
      " 1 0 0 0 0 1 0 0 0 0 1 0 0 0 0 1 0 0 0 0 1 0 0 0 0 1 0 0 0 0 1 0 0 0 0 1 0\n",
      " 0 0 0 0 0 1 0 0 0 0 1 0 0 0 0 1 0 0 0 0 1 0 0 0 0 1 0 0 0 0 1 0 0 0 0 1 0\n",
      " 0 0 0 1 0 0 0 0 0 0 0 0 0 0 0 0 0 0 0 0 0 0 0 0 0 0 0 0 0 0 0 0 0 0 0 0 1\n",
      " 0 0 0 0 0 1 0 0 0 0 0 1 0 0 0 0 0 1 0 0 0 0 0 0 0 0 0 0 0 0 0 0 0 0 0 0 0\n",
      " 0 0 0 0 0 0 0 0 0 0 0 0 0 0 0 0 0 0 0 0 0 0 0 0 0 0 0 0 0 0 0 0 0 0 0 0 0\n",
      " 0 0 0 0 0 0 0 0 0 0 0 0 0 0 0 0 0 0 0 0 0 0 0 0 0 0 0 0 0 0 0 0 0 0 0 1 1\n",
      " 0 0 1 1 0 0 1 1 0 0 0 0 1 1 0 0 1 1 0 0 1 1 0 0 1 1 0 0 0 0 1 1 0 0 0 0 1\n",
      " 1 0 0 0 0 1 1 0 0 0 0 0 0 0 1 1 1 0 1 1 1 1 1 1 0 0 0 1 1 1 0 1 1 1 1 1 1\n",
      " 0 0 0 0 0 0 0 0 0 0 0 0 0 0 0 0 0 0 0 0 0 0 0 0 0 0 0 0 0 0 1 1 1 1 1 1 1\n",
      " 1 1 1 1 1 1 1 1 1 1 1 1 1 1 1 1 1 1 1 1 1 1 1 1 1 1 1 1 1 1 1 1 1 1 0 0 0\n",
      " 1 0 1 0 0 0 1 0 1 0 0 0 1 0 1 0 0 0 1 0 1 0 0 0 1 0 1 0 0 0 1 0 1 0 0 0 1\n",
      " 0 1 0 0 0 1 0 0 1 1 1 0 0 0 0 1 1 0 1 1 0 1 1 0 1 1 0 1 1 0 1 1 0 1 1 0 1\n",
      " 1 0 1 1 0 1 1 0 1 1 0 1 1 0 1 1 0 1 1 0 1 1 0 1 1 0 1 0 0 1 0 1 0 0 1 0 1\n",
      " 0 0 1 0 1 0 0 1 0 1 0 0 1 1 1 0 1 1 0 1 1 0 1 1 0 1 1 0 1 1 0 1 1 0 1 1 0\n",
      " 1 1 0 1 1 0 1 0 1 0 0 0 0 0 0 0 0 1 0 1 0 0 0 0 0 0 0 0 1 0 1 0 0 0 0 0 0\n",
      " 0 0 0 1 0 0 1 0 1 0 1 0 0 1 0 1 0 1 0 0 1 0 1 0 1 0 0 1 0 1 0 1 0 0 1 0 1\n",
      " 0 1 0 0 1 0 1 0 1 0 1 0 0 1 0 1 0 0 1 0 1 0 0 1 0 1 0 0 1 0 1 0 0 1 0 1 0\n",
      " 0 1 0 1 0 0 1 0 1 0 0 0 0 0 0 1 0 0 0 0 0 0 1 0 0 0 0 0 0 1 0 0 0 0 0 0 1\n",
      " 0 0 0 0 0 0 0 0 0 0 0 0 0 0 0 0 0 0 0 0 0 0 0 0 0 0 0 0 0 0 0 0 0 0 0 0 0\n",
      " 0 0 0 0 0 0 0 0 0 0 0 0 0 0 0 0 0 0 0 0 0 0 0 0 0 0 0 0 0 0 0 0 0 0 0 0 0\n",
      " 0 0 0 0 0 0 0 0 0 0 0 0 0 0 0 0 0 0 0 0 0 0 0 0 0 0 0 0 0 0 0 0 0 0 0 0 0]\n"
     ]
    },
    {
     "data": {
      "text/plain": [
       "['Resume',\n",
       " 'cleaned_resume',\n",
       " 'CategoryLabel',\n",
       " 'result',\n",
       " 'skill freq',\n",
       " 'words freq']"
      ]
     },
     "execution_count": 104,
     "metadata": {},
     "output_type": "execute_result"
    }
   ],
   "source": [
    "freq = df[['skill freq','words freq']] #.as_matrix()\n",
    "print(freq.iloc[3])\n",
    "type_label = np.where(df['result']=='Stuffer', 1, 0)\n",
    "print(type_label)\n",
    "\n",
    "# Feature names\n",
    "features = df.columns.values[1:].tolist()\n",
    "features"
   ]
  },
  {
   "cell_type": "code",
   "execution_count": 105,
   "id": "genuine-catalyst",
   "metadata": {
    "ExecuteTime": {
     "end_time": "2021-12-18T20:33:12.371488Z",
     "start_time": "2021-12-18T20:33:08.212099Z"
    }
   },
   "outputs": [
    {
     "name": "stdout",
     "output_type": "stream",
     "text": [
      "[1 0 0 1 0 0 0 1 0 0 1 0 0 1 0 0 0 1 0 0 1 0 0 1 0 0 0 1 0 0 1 0 0 1 0 0 0\n",
      " 1 0 0 0 0 0 0 0 0 0 0 0 0 0 0 0 0 0 0 0 0 0 0 0 0 0 0 0 0 0 0 0 0 0 0 0 0\n",
      " 0 0 0 0 0 0 0 0 0 0 0 0 0 0 0 0 0 0 0 0 0 0 0 0 0 0 0 0 0 0 0 0 1 0 0 0 0\n",
      " 0 1 0 0 0 0 0 1 0 0 0 0 0 1 0 0 0 0 0 1 0 0 0 0 0 1 0 0 0 0 0 0 0 0 0 0 0\n",
      " 0 0 0 0 0 0 0 0 0 0 0 0 0 0 0 0 0 0 0 0 0 0 0 0 0 0 0 0 0 0 0 0 0 0 0 0 0\n",
      " 1 0 0 0 0 1 0 0 0 0 1 0 0 0 0 1 0 0 0 0 1 0 0 0 0 1 0 0 0 0 1 0 0 0 0 1 0\n",
      " 0 0 0 0 0 1 0 0 0 0 1 0 0 0 0 1 0 0 0 0 1 0 0 0 0 1 0 0 0 0 1 0 0 0 0 1 0\n",
      " 0 0 0 1 0 0 0 0 0 0 0 0 0 0 0 0 0 0 0 0 0 0 0 0 0 0 0 0 0 0 0 0 0 0 0 0 1\n",
      " 0 0 0 0 0 1 0 0 0 0 0 1 0 0 0 0 0 1 0 0 0 0 0 0 0 0 0 0 0 0 0 0 0 0 0 0 0\n",
      " 0 0 0 0 0 0 0 0 0 0 0 0 0 0 0 0 0 0 0 0 0 0 0 0 0 0 0 0 0 0 0 0 0 0 0 0 0\n",
      " 0 0 0 0 0 0 0 0 0 0 0 0 0 0 0 0 0 0 0 0 0 0 0 0 0 0 0 0 0 0 0 0 0 0 0 1 1\n",
      " 0 0 1 1 0 0 1 1 0 0 0 0 1 1 0 0 1 1 0 0 1 1 0 0 0 1 0 0 0 0 0 1 0 0 0 0 0\n",
      " 1 0 0 0 0 0 1 0 0 0 0 0 0 0 1 1 0 0 1 1 1 1 1 1 0 0 0 1 1 0 0 1 1 1 1 1 1\n",
      " 1 0 0 0 0 1 0 0 0 0 1 0 0 0 0 1 0 0 0 0 1 0 0 0 0 1 0 0 0 0 1 1 1 1 1 1 1\n",
      " 1 1 1 1 1 1 1 1 1 1 1 1 1 1 1 1 1 1 1 1 1 1 1 1 1 1 1 1 1 1 1 1 1 1 0 0 0\n",
      " 1 0 1 0 0 0 1 0 1 0 0 0 1 0 1 0 0 0 1 0 1 0 0 0 1 0 1 0 0 0 1 0 1 0 0 0 1\n",
      " 0 1 0 0 0 1 0 0 0 1 1 0 0 0 0 0 1 0 0 1 0 0 1 0 0 1 0 0 1 0 0 1 0 0 1 0 0\n",
      " 1 0 0 1 0 0 1 0 0 1 0 0 1 0 0 1 0 0 1 0 0 1 0 0 1 0 1 0 0 1 0 1 0 0 1 0 1\n",
      " 0 0 1 0 1 0 0 1 0 1 0 0 1 1 1 0 1 1 0 1 1 0 1 1 0 1 1 0 1 1 0 1 1 0 1 1 0\n",
      " 1 1 0 1 1 0 1 0 1 0 0 0 0 0 0 0 0 1 0 1 0 0 0 0 0 0 0 0 1 0 1 0 0 0 0 0 0\n",
      " 0 0 0 1 0 0 1 0 1 0 1 0 0 1 0 1 0 1 0 0 1 0 1 0 1 0 0 1 0 1 0 1 0 0 1 0 1\n",
      " 0 1 0 0 1 0 1 0 0 0 1 0 0 0 0 1 0 0 0 0 1 0 0 0 0 1 0 0 0 0 1 0 0 0 0 1 0\n",
      " 0 0 0 1 0 0 0 0 1 0 0 0 0 0 0 1 0 0 0 0 0 0 1 0 0 0 0 0 0 1 0 0 0 0 0 0 1\n",
      " 0 0 0 0 0 0 0 0 0 0 0 0 0 0 0 0 0 0 0 0 0 0 0 0 0 0 0 0 0 0 0 0 0 0 0 0 0\n",
      " 0 0 0 0 0 0 0 0 0 0 0 0 0 0 0 0 0 0 0 0 0 0 0 0 0 0 0 0 0 0 0 0 0 0 0 0 0\n",
      " 0 0 0 0 0 0 0 0 0 0 0 0 0 0 0 0 0 0 0 0 0 0 0 0 0 0 0 0 0 0 0 0 0 0 0 0 0]\n",
      "[0]\n"
     ]
    }
   ],
   "source": [
    "# Fit the SVM model\n",
    "from sklearn.preprocessing import StandardScaler\n",
    "#scaler = StandardScaler()\n",
    "#print(scaler.fit(freq))\n",
    "#freq = scaler.fit_transform(freq)\n",
    "\n",
    "#Worked wither it is scaled or not\n",
    "model = svm.SVC(kernel='linear')\n",
    "model.fit(freq, type_label)\n",
    "print(model.predict(freq))\n",
    "print(model.predict([[freq.iloc[4][0],freq.iloc[4][1]]]))"
   ]
  },
  {
   "cell_type": "code",
   "execution_count": 106,
   "id": "empirical-signal",
   "metadata": {
    "ExecuteTime": {
     "end_time": "2021-12-18T20:33:14.859561Z",
     "start_time": "2021-12-18T20:33:14.849526Z"
    }
   },
   "outputs": [],
   "source": [
    "# Get the separating hyperplane\n",
    "w = model.coef_[0]\n",
    "a = -w[0] / w[1]\n",
    "xx = np.linspace(0, 300) #to make the preceptron clearer\n",
    "yy = a * xx - (model.intercept_[0]) / w[1]\n",
    "\n",
    "# Plot the parallels to the separating hyperplane that pass through the support vectors\n",
    "b = model.support_vectors_[0]\n",
    "yy_down = a * xx + (b[1] - a * b[0])\n",
    "b = model.support_vectors_[-1]\n",
    "yy_up = a * xx + (b[1] - a * b[0])"
   ]
  },
  {
   "cell_type": "code",
   "execution_count": 107,
   "id": "hidden-newton",
   "metadata": {
    "ExecuteTime": {
     "end_time": "2021-12-18T20:33:17.320007Z",
     "start_time": "2021-12-18T20:33:16.943363Z"
    }
   },
   "outputs": [
    {
     "data": {
      "image/png": "[encoded data removed]",
      "text/plain": [
       "<Figure size 450.5x360 with 1 Axes>"
      ]
     },
     "metadata": {
      "needs_background": "light"
     },
     "output_type": "display_data"
    }
   ],
   "source": [
    "# Plot the hyperplane\n",
    "sns.lmplot(x= 'skill freq', y = 'words freq', data=df, hue='result', palette='Set1', fit_reg=False, scatter_kws={\"s\": 15})\n",
    "plt.plot(xx, yy, linewidth=2, color='black');"
   ]
  },
  {
   "cell_type": "code",
   "execution_count": 108,
   "id": "compressed-dublin",
   "metadata": {
    "ExecuteTime": {
     "end_time": "2021-12-18T20:33:19.675794Z",
     "start_time": "2021-12-18T20:33:19.661781Z"
    }
   },
   "outputs": [],
   "source": [
    "# # Look at the margins and support vectors\n",
    "# sns.lmplot(x='skill freq', y='words freq', data=df, hue='result', palette='Set1', fit_reg=False, scatter_kws={\"s\": 15})\n",
    "# plt.plot(xx, yy, linewidth=2, color='black')\n",
    "# plt.plot(xx, yy_down, 'k--')\n",
    "# plt.plot(xx, yy_up, 'k--')\n",
    "# plt.scatter(model.support_vectors_[:, 0], model.support_vectors_[:, 1],\n",
    "#             s=100, facecolors='none');"
   ]
  },
  {
   "cell_type": "code",
   "execution_count": 109,
   "id": "under-portsmouth",
   "metadata": {
    "ExecuteTime": {
     "end_time": "2021-12-18T20:33:23.102508Z",
     "start_time": "2021-12-18T20:33:22.289666Z"
    }
   },
   "outputs": [
    {
     "name": "stdout",
     "output_type": "stream",
     "text": [
      "Feature completed .....\n",
      "(721, 7351)\n",
      "(241, 7351)\n"
     ]
    }
   ],
   "source": [
    "from sklearn.model_selection import train_test_split\n",
    "from sklearn.feature_extraction.text import TfidfVectorizer\n",
    "from scipy.sparse import hstack\n",
    "# taken from source\n",
    "requiredText = df['cleaned_resume'].values\n",
    "#print(requiredText)\n",
    "requiredTarget = df['Category'].values\n",
    "#print(requiredText)\n",
    "\n",
    "word_vectorizer = TfidfVectorizer(\n",
    "    sublinear_tf=True,\n",
    "    stop_words='english')\n",
    "word_vectorizer.fit(requiredText)\n",
    "WordFeatures = word_vectorizer.transform(requiredText)\n",
    "print (\"Feature completed .....\")\n",
    "\n",
    "X_train,X_test,y_train,y_test = train_test_split(WordFeatures,requiredTarget,random_state=42, test_size=0.25,\n",
    "                                                 shuffle=True, stratify=requiredTarget)\n",
    "print(X_train.shape)\n",
    "print(X_test.shape)"
   ]
  },
  {
   "cell_type": "code",
   "execution_count": 110,
   "id": "going-notice",
   "metadata": {
    "ExecuteTime": {
     "end_time": "2021-12-18T20:33:28.967342Z",
     "start_time": "2021-12-18T20:33:26.008888Z"
    }
   },
   "outputs": [
    {
     "name": "stdout",
     "output_type": "stream",
     "text": [
      "  (0, 7327)\t0.07249749679765144\n",
      "  (0, 7325)\t0.0732297893614119\n",
      "  (0, 7278)\t0.024046487266907737\n",
      "  (0, 7272)\t0.062441736085650464\n",
      "  (0, 7203)\t0.06932760097369385\n",
      "  (0, 6988)\t0.06939405919879374\n",
      "  (0, 6987)\t0.07815626755442276\n",
      "  (0, 6930)\t0.044126563066147026\n",
      "  (0, 6880)\t0.049129692655430136\n",
      "  (0, 6845)\t0.07815626755442276\n",
      "  (0, 6767)\t0.06302035591716179\n",
      "  (0, 6766)\t0.13592019177005935\n",
      "  (0, 6680)\t0.04054383615405635\n",
      "  (0, 6614)\t0.0300302986566773\n",
      "  (0, 6571)\t0.04984307863410266\n",
      "  (0, 6563)\t0.04335990191712683\n",
      "  (0, 6562)\t0.13233006405285963\n",
      "  (0, 6557)\t0.02200477929144566\n",
      "  (0, 6436)\t0.0323022652713826\n",
      "  (0, 6380)\t0.05660890658314407\n",
      "  (0, 6374)\t0.07815626755442276\n",
      "  (0, 6358)\t0.05009353315343276\n",
      "  (0, 6356)\t0.04568796043973033\n",
      "  (0, 6344)\t0.1865038605512965\n",
      "  (0, 6285)\t0.045833753339932656\n",
      "  :\t:\n",
      "  (240, 1710)\t0.04976861255086334\n",
      "  (240, 1672)\t0.041230047329651735\n",
      "  (240, 1626)\t0.09460608704819229\n",
      "  (240, 1567)\t0.11109867383360275\n",
      "  (240, 1455)\t0.03190619521153069\n",
      "  (240, 1408)\t0.027038851433058193\n",
      "  (240, 1297)\t0.04021452404832334\n",
      "  (240, 1296)\t0.06910279894624698\n",
      "  (240, 1192)\t0.04976861255086334\n",
      "  (240, 1035)\t0.033120842178012005\n",
      "  (240, 1019)\t0.0869594624885895\n",
      "  (240, 1007)\t0.09059270087167329\n",
      "  (240, 884)\t0.05783476736832219\n",
      "  (240, 769)\t0.05229931753344189\n",
      "  (240, 548)\t0.06003252314119752\n",
      "  (240, 542)\t0.032087155575375004\n",
      "  (240, 499)\t0.11173491145722293\n",
      "  (240, 483)\t0.06416009002561122\n",
      "  (240, 285)\t0.09247364662701768\n",
      "  (240, 108)\t0.11305414145759474\n",
      "  (240, 99)\t0.03381528120539748\n",
      "  (240, 96)\t0.04555759933440359\n",
      "  (240, 93)\t0.04180485009087146\n",
      "  (240, 53)\t0.12083273427457274\n",
      "  (240, 15)\t0.04091064505804006\n",
      "[20 12 10 15  6 11  4 10  7  7 20  2 23 12  4  6 24 21 15 23  8  0 12 16\n",
      " 15 15  7  8 19 14  4 22 20  1  3  8 23  4 19 12  5  8  8 13 21 11 24  4\n",
      " 10 23 14 18  1  7  3 18 23 15 16 24  5 16  9 17  0 15 11 23 23 22 23 13\n",
      "  8 16 24 14 21 24 12  8 10 15 20  8  7 21  6  6 24 13 10  5  8 20 22 22\n",
      " 12  3  9 12 12  0 11 13  5  8 14 11 20 13  7  9 17 16 16  9 15 16 15  6\n",
      " 10 15 18  5 12 23 23 10  6  1 21 11 12  9 15 18 20 22 24 23 18 10 21 13\n",
      "  8  1 20 20  2 18  6 15 16 14 19 18 23 19 24 18 23  1  6 11 24  7  2 24\n",
      " 19  2  1  3  3  8 17 17 23 17 14 22  0 15 15  1 20 12  6  3 10 19 14  9\n",
      "  3 24 10 23 15  4 13  8 16 22 13  2  5 15 11  0 23 18  3  7 22 19 16  9\n",
      " 13 15  4 15 23  1 23 14 19 17 22  3 18 20  1  6 22 13 23  3 20 13 15 15\n",
      " 15]\n",
      "[20]\n",
      "Accuracy of KNeighbors Classifier on training set: 0.99\n",
      "Accuracy of KNeighbors Classifier on test set:     0.99\n"
     ]
    }
   ],
   "source": [
    "# Gaurav Dutta :)\n",
    "clf = OneVsRestClassifier(KNeighborsClassifier())\n",
    "clf.fit(X_train, y_train)\n",
    "print(X_test)\n",
    "prediction = clf.predict(X_test)\n",
    "print(clf.predict(X_test))\n",
    "# Not Gaurav Dutta :)\n",
    "print(clf.predict(X_test[0]))\n",
    "#for cv in requiredText:\n",
    " #   print(cv)\n",
    "\n",
    "print('Accuracy of KNeighbors Classifier on training set: {:.2f}'.format(clf.score(X_train, y_train)))\n",
    "print('Accuracy of KNeighbors Classifier on test set:     {:.2f}'.format(clf.score(X_test, y_test)))\n",
    "\n"
   ]
  },
  {
   "cell_type": "code",
   "execution_count": 111,
   "id": "noble-flesh",
   "metadata": {
    "ExecuteTime": {
     "end_time": "2021-12-18T20:33:31.730724Z",
     "start_time": "2021-12-18T20:33:31.716066Z"
    }
   },
   "outputs": [
    {
     "name": "stdout",
     "output_type": "stream",
     "text": [
      "\n",
      " Classification report for classifier OneVsRestClassifier(estimator=KNeighborsClassifier()):\n",
      "              precision    recall  f1-score   support\n",
      "\n",
      "           0       1.00      1.00      1.00         5\n",
      "           1       1.00      1.00      1.00         9\n",
      "           2       0.80      0.67      0.73         6\n",
      "           3       1.00      1.00      1.00        10\n",
      "           4       1.00      1.00      1.00         7\n",
      "           5       1.00      1.00      1.00         6\n",
      "           6       1.00      1.00      1.00        10\n",
      "           7       1.00      1.00      1.00         8\n",
      "           8       1.00      0.93      0.96        14\n",
      "           9       1.00      1.00      1.00         7\n",
      "          10       1.00      1.00      1.00        10\n",
      "          11       0.88      1.00      0.93         7\n",
      "          12       1.00      1.00      1.00        11\n",
      "          13       1.00      1.00      1.00        11\n",
      "          14       1.00      1.00      1.00         8\n",
      "          15       1.00      1.00      1.00        21\n",
      "          16       1.00      1.00      1.00        10\n",
      "          17       1.00      1.00      1.00         6\n",
      "          18       1.00      1.00      1.00        10\n",
      "          19       1.00      1.00      1.00         8\n",
      "          20       1.00      1.00      1.00        12\n",
      "          21       1.00      1.00      1.00         6\n",
      "          22       1.00      1.00      1.00        10\n",
      "          23       0.95      1.00      0.97        18\n",
      "          24       1.00      1.00      1.00        11\n",
      "\n",
      "    accuracy                           0.99       241\n",
      "   macro avg       0.98      0.98      0.98       241\n",
      "weighted avg       0.99      0.99      0.99       241\n",
      "\n",
      "\n"
     ]
    }
   ],
   "source": [
    "print(\"\\n Classification report for classifier %s:\\n%s\\n\" % (clf, metrics.classification_report(y_test, prediction)))"
   ]
  },
  {
   "cell_type": "code",
   "execution_count": 112,
   "id": "medical-ranking",
   "metadata": {
    "ExecuteTime": {
     "end_time": "2021-12-18T20:33:35.225797Z",
     "start_time": "2021-12-18T20:33:34.303984Z"
    },
    "scrolled": false
   },
   "outputs": [
    {
     "name": "stdout",
     "output_type": "stream",
     "text": [
      "Data Science\n",
      "HR\n",
      "Advocate\n",
      "Arts\n",
      "Web Designing\n",
      "Mechanical Engineer\n",
      "Sales\n",
      "Health and fitness\n",
      "Civil Engineer\n",
      "Java Developer\n",
      "Business Analyst\n",
      "SAP Developer\n",
      "Automation Testing\n",
      "Electrical Engineering\n",
      "Operations Manager\n",
      "Python Developer\n",
      "DevOps Engineer\n",
      "Network Security Engineer\n",
      "PMO\n",
      "Database\n",
      "Hadoop\n",
      "ETL Developer\n",
      "DotNet Developer\n",
      "Blockchain\n",
      "Testing\n"
     ]
    }
   ],
   "source": [
    "# print(df['Category'].unique())\n",
    "\n",
    "# df = pd.get_dummies(df, columns=['CategoryLabel'])\n",
    "# display(df)\n",
    "n=0\n",
    "totalWords=[]\n",
    "cats= df['CategoryLabel'].unique()\n",
    "import string\n",
    "\n",
    "oneSetOfStopWords = set(stopwords.words('english')+['``',\"''\"])\n",
    "\n",
    "for cat in cats:\n",
    "    print(cat)\n",
    "    df1= df[df['CategoryLabel'] == cat] # DF contains all resume in that category\n",
    "    for resume in df1['cleaned_resume']:\n",
    "            string = str(resume).lower().replace(\"skill details\", \"description\").split(\"description\", 2)\n",
    "\n",
    "            requiredWords = nltk.word_tokenize(string[0])\n",
    "#             print(requiredWords)\n",
    "#             print(string[0])\n",
    "#             print(len(string))\n",
    "            for word in requiredWords:\n",
    "                if word not in oneSetOfStopWords :\n",
    "                    totalWords.append(word)\n",
    "\n",
    "\n",
    "\n",
    "\n",
    "\n",
    "\n",
    "#             ## for all    \n",
    "    wordfreqdist = nltk.FreqDist(totalWords)\n",
    "    mostcommon = wordfreqdist.most_common(50)\n",
    "#     print(string.punctuation)\n",
    "    #print(mostcommon)\n",
    "#     break;"
   ]
  },
  {
   "cell_type": "code",
   "execution_count": 113,
   "id": "western-entrance",
   "metadata": {
    "ExecuteTime": {
     "end_time": "2021-12-18T20:33:38.259683Z",
     "start_time": "2021-12-18T20:33:38.214023Z"
    }
   },
   "outputs": [
    {
     "data": {
      "text/plain": [
       "[('data', 112),\n",
       " ('science', 80),\n",
       " ('python', 48),\n",
       " ('education', 44),\n",
       " ('details', 40),\n",
       " ('engineering', 40),\n",
       " ('learning', 32),\n",
       " ('b', 32),\n",
       " ('skills', 28),\n",
       " ('analytics', 28),\n",
       " ('institute', 28),\n",
       " ('machine', 24),\n",
       " ('tech', 24),\n",
       " ('technology', 24),\n",
       " ('business', 24),\n",
       " ('computer', 20),\n",
       " ('scientist', 20),\n",
       " ('college', 20),\n",
       " ('pradesh', 20),\n",
       " ('programming', 16),\n",
       " ('sql', 16),\n",
       " ('electronics', 16),\n",
       " ('sap', 16),\n",
       " ('consultant', 16),\n",
       " ('madhya', 16),\n",
       " ('java', 12),\n",
       " ('analysis', 12),\n",
       " ('tableau', 12),\n",
       " ('deep', 12),\n",
       " ('e', 12),\n",
       " ('technical', 12),\n",
       " ('school', 12),\n",
       " ('hana', 12),\n",
       " ('communication', 12),\n",
       " ('microsoft', 12),\n",
       " ('experience', 12),\n",
       " ('languages', 8),\n",
       " ('learn', 8),\n",
       " ('matplotlib', 8),\n",
       " ('decision', 8),\n",
       " ('word', 8),\n",
       " ('modelling', 8),\n",
       " ('mysql', 8),\n",
       " ('js', 8),\n",
       " ('html', 8),\n",
       " ('flask', 8),\n",
       " ('assurance', 8),\n",
       " ('associate', 8),\n",
       " ('web', 8),\n",
       " ('bangalore', 8),\n",
       " ('matlab', 8),\n",
       " ('intermediate', 8),\n",
       " ('basics', 8),\n",
       " ('electrical', 8),\n",
       " ('manipal', 8),\n",
       " ('academy', 8),\n",
       " ('r', 8),\n",
       " ('c', 8),\n",
       " ('nlp', 8),\n",
       " ('technological', 8),\n",
       " ('visualization', 8),\n",
       " ('bringing', 8),\n",
       " ('real', 8),\n",
       " ('solutions', 8),\n",
       " ('ability', 8),\n",
       " ('bhopal', 8),\n",
       " ('information', 8),\n",
       " ('vidisha', 8),\n",
       " ('pandas', 4),\n",
       " ('numpy', 4),\n",
       " ('scipy', 4),\n",
       " ('scikit', 4),\n",
       " ('javascript', 4),\n",
       " ('jquery', 4),\n",
       " ('regression', 4),\n",
       " ('svm', 4),\n",
       " ('na', 4),\n",
       " ('bayes', 4),\n",
       " ('knn', 4),\n",
       " ('random', 4),\n",
       " ('forest', 4),\n",
       " ('trees', 4),\n",
       " ('boosting', 4),\n",
       " ('techniques', 4),\n",
       " ('cluster', 4),\n",
       " ('embedding', 4),\n",
       " ('sentiment', 4),\n",
       " ('natural', 4),\n",
       " ('language', 4),\n",
       " ('processing', 4),\n",
       " ('dimensionality', 4),\n",
       " ('reduction', 4),\n",
       " ('topic', 4),\n",
       " ('lda', 4),\n",
       " ('nmf', 4),\n",
       " ('pca', 4),\n",
       " ('neural', 4),\n",
       " ('nets', 4),\n",
       " ('database', 4),\n",
       " ('visualizations', 4)]"
      ]
     },
     "execution_count": 113,
     "metadata": {},
     "output_type": "execute_result"
    }
   ],
   "source": [
    "import re\n",
    "#6 == Data Sience\n",
    "xCat= 6\n",
    "            \n",
    "            \n",
    "\n",
    " \n",
    "\n",
    " \n",
    "\n",
    " \n",
    "\n",
    "\n",
    "oneSetOfStopWords = set(stopwords.words('english')+['``',\"''\"])\n",
    "months= [\"january\", \"February\", \"March\", \"April\", \"May\", \"June\", \"July\", \"August\", \"September\", \"October\", \"November\",  \"December\"]\n",
    "for m in months:\n",
    "    oneSetOfStopWords.add(m.lower())\n",
    "totalWords=[]\n",
    "cats= df['Category'].unique()\n",
    " \n",
    "\n",
    " \n",
    "\n",
    " \n",
    "\n",
    "\n",
    "def category(cat):\n",
    "    df3= df[df['Category'] == cat] # DF contains all resume in that category\n",
    "#     display(df3)\n",
    "\n",
    " \n",
    "\n",
    " \n",
    "\n",
    " \n",
    "\n",
    "    for resume in df3['cleaned_resume']:\n",
    "        stringg = str(resume).lower().replace(\"skill details\", \"description\").split(\"description\", 2)\n",
    "        stringg[0] = re.sub(r'\\d+', '', stringg[0])\n",
    "        requiredWords = nltk.word_tokenize(stringg[0])\n",
    "        \n",
    "        for word in requiredWords:\n",
    "            if word not in oneSetOfStopWords :\n",
    "                totalWords.append(word)\n",
    "    #print(cat)\n",
    "    wordfreqdist = nltk.FreqDist(totalWords)\n",
    "    mostcommon = wordfreqdist.most_common(100)\n",
    "    #print(mostcommon)\n",
    "    return mostcommon\n",
    "#     print(stringg[0])\n",
    "#     return mostcommon\n",
    "category(xCat)   "
   ]
  },
  {
   "cell_type": "code",
   "execution_count": 114,
   "id": "automotive-static",
   "metadata": {
    "ExecuteTime": {
     "end_time": "2021-12-18T20:33:41.222260Z",
     "start_time": "2021-12-18T20:33:41.208321Z"
    }
   },
   "outputs": [],
   "source": [
    "# df11 = df.copy()\n",
    "# def resumeParser(df):\n",
    "#     i = 0\n",
    "#     for resume in df:\n",
    "#         df11.iloc[i] = resume\n",
    "#     #resume = cleanResume(resume)\n",
    "#     df['cleaned_resume'] = df.Resume.apply(lambda x: cleanResume(x))\n",
    "#     stuffers = []\n",
    "#     count = 0\n",
    "#     for resume in df['cleaned_resume']:\n",
    "#         string = str(resume).lower().replace(\"skill details\", \"description\").split(\"description\", 2)\n",
    "#         string[0] = string[0].split(\"education\")[0]\n",
    "#         numSkill= len(string[0].split(\" \"))\n",
    "#         numWords= len(string[2].split(\" \"))\n",
    "#         if model.predict([[numWords, numSkill]])[0] == 0:\n",
    "#             stuffers.append(\"Not Stuffer\")\n",
    "#         else:\n",
    "#             stuffers.append(\"Stuffer\")\n",
    "#     df[\"result\"] = stuffers\n",
    "#     requiredText = df11['cleaned_resume'].values\n",
    "#     word_vectorizer = TfidfVectorizer(\n",
    "#     sublinear_tf=True,\n",
    "#     stop_words='english')\n",
    "#     word_vectorizer.fit(requiredText)\n",
    "#     WordFeatures = word_vectorizer.transform(requiredText)\n",
    "#     count = 0\n",
    "#     knnPrediction = clf.predict(WordFeatures)\n",
    "#     favourability = []\n",
    "#     for resume in df['cleaned_resume']:\n",
    "#         words = []\n",
    "#         mostcommon = category(knnPrediction[count])\n",
    "#         countCommon = 0\n",
    "#         for word in resume.split(\" \"):\n",
    "#             if word in mostcommon and word not in words:\n",
    "#                 countCommon +=1\n",
    "#                 words.append(word)\n",
    "#         favourability.append(countCommon/(len(mostcommon))*100)\n",
    "#     df[\"Favourability\"] = favourability\n",
    "#     return df\n",
    "# #df10 = resumeParser(df.iloc[:5])                \n",
    "\n",
    "# df10.sample(20)"
   ]
  },
  {
   "cell_type": "code",
   "execution_count": 115,
   "id": "adjusted-beads",
   "metadata": {
    "ExecuteTime": {
     "end_time": "2021-12-18T20:34:00.667185Z",
     "start_time": "2021-12-18T20:33:43.931322Z"
    }
   },
   "outputs": [
    {
     "name": "stdout",
     "output_type": "stream",
     "text": [
      "favourability for candidate 868: Stuffer\n",
      "\n",
      "favourability for candidate 752: Stuffer\n",
      "\n",
      "favourability for candidate 276: Stuffer\n",
      "\n",
      "Category:  Testing\n",
      "favourability for candidate 904: 0.0\n",
      "\n",
      "favourability for candidate 648: Stuffer\n",
      "\n",
      "favourability for candidate 232: Stuffer\n",
      "\n",
      "favourability for candidate 581: Stuffer\n",
      "\n",
      "favourability for candidate 514: Stuffer\n",
      "\n",
      "Category:  Data Science\n",
      "favourability for candidate 16: 3.0\n",
      "\n",
      "favourability for candidate 842: Stuffer\n",
      "\n",
      "Category:  Python Developer\n",
      "favourability for candidate 582: 2.0\n",
      "\n",
      "Category:  Hadoop\n",
      "favourability for candidate 782: 2.0\n",
      "\n",
      "Category:  Java Developer\n",
      "favourability for candidate 357: 1.0\n",
      "\n",
      "favourability for candidate 905: Stuffer\n",
      "\n",
      "Category:  Java Developer\n",
      "favourability for candidate 360: 1.0\n",
      "\n",
      "favourability for candidate 794: Stuffer\n",
      "\n",
      "favourability for candidate 936: Stuffer\n",
      "\n",
      "Category:  HR\n",
      "favourability for candidate 81: 0.0\n",
      "\n",
      "favourability for candidate 215: Stuffer\n",
      "\n",
      "Category:  HR\n",
      "favourability for candidate 77: 0.0\n",
      "\n"
     ]
    }
   ],
   "source": [
    "def resumeParser(resume):\n",
    "    words= []\n",
    "    resume = cleanResume(resume)\n",
    "    string = str(resume).lower().replace(\"skill details\", \"description\").split(\"description\", 2)\n",
    "    string[0] = string[0].split(\"education\")[0]\n",
    "    numSkill= len(string[0].split(\" \"))\n",
    "    numWords= len(string[2].split(\" \"))\n",
    "    if model.predict([[numWords, numSkill]])[0] == 1:\n",
    "        return \"Stuffer\"\n",
    "    requiredText = df['cleaned_resume'].values\n",
    "    requiredText[0] = resume\n",
    "    word_vectorizer = TfidfVectorizer(\n",
    "    sublinear_tf=True,\n",
    "    stop_words='english')\n",
    "    word_vectorizer.fit(requiredText)\n",
    "    WordFeatures = word_vectorizer.transform(requiredText)\n",
    "    knnPrediction = clf.predict(WordFeatures)[0]\n",
    "    mostcommon = category(knnPrediction)\n",
    "    count = 0\n",
    "    \n",
    "    print(\"Category: \", df['CategoryLabel'].unique()[list(cats).index(knnPrediction)])\n",
    "    for i in mostcommon:\n",
    "        mostcommon[count] = i[0]\n",
    "        count += 1\n",
    "    count= 0\n",
    "#     print(mostcommon)\n",
    "    for word in resume.split(\" \"):\n",
    "        if word in mostcommon and word not in words:\n",
    "            # print(word)\n",
    "            words.append(word)\n",
    "            count +=1\n",
    "#     print(mostcommon)\n",
    "#     print(count)\n",
    "    return count/len(mostcommon)*10*4//1\n",
    "    \n",
    "            \n",
    "    \n",
    "\n",
    " \n",
    "\n",
    "# df['counter'] = df.Resume.apply(lambda x: resumeParser(x))\n",
    "\n",
    "import random\n",
    "for i in range(20):\n",
    "    cand = random.randint(0, 961)\n",
    "    print(\"favourability for candidate \"  + str(cand) +\": \"+ str(resumeParser(df['Resume'][cand])))\n",
    "    print()\n",
    "# display(df.sample(10))"
   ]
  },
  {
   "cell_type": "code",
   "execution_count": null,
   "id": "conditional-brave",
   "metadata": {
    "ExecuteTime": {
     "end_time": "2021-12-18T18:58:57.370834Z",
     "start_time": "2021-12-18T18:57:21.479Z"
    },
    "code_folding": []
   },
   "outputs": [],
   "source": []
  },
  {
   "cell_type": "code",
   "execution_count": null,
   "id": "complimentary-fabric",
   "metadata": {
    "ExecuteTime": {
     "end_time": "2021-12-18T18:58:57.376820Z",
     "start_time": "2021-12-18T18:57:21.676Z"
    }
   },
   "outputs": [],
   "source": []
  },
  {
   "cell_type": "code",
   "execution_count": null,
   "id": "heard-norfolk",
   "metadata": {},
   "outputs": [],
   "source": []
  },
  {
   "cell_type": "code",
   "execution_count": null,
   "id": "instant-paste",
   "metadata": {},
   "outputs": [],
   "source": []
  },
  {
   "cell_type": "code",
   "execution_count": null,
   "id": "informed-above",
   "metadata": {},
   "outputs": [],
   "source": []
  }
 ],
 "metadata": {
  "kernelspec": {
   "display_name": "Python 3 (ipykernel)",
   "language": "python",
   "name": "python3"
  },
  "language_info": {
   "codemirror_mode": {
    "name": "ipython",
    "version": 3
   },
   "file_extension": ".py",
   "mimetype": "text/x-python",
   "name": "python",
   "nbconvert_exporter": "python",
   "pygments_lexer": "ipython3",
   "version": "3.8.13"
  },
  "nbTranslate": {
   "displayLangs": [
    "*"
   ],
   "hotkey": "alt-t",
   "langInMainMenu": true,
   "sourceLang": "en",
   "targetLang": "fr",
   "useGoogleTranslate": true
  },
  "toc": {
   "base_numbering": 1,
   "nav_menu": {},
   "number_sections": true,
   "sideBar": true,
   "skip_h1_title": false,
   "title_cell": "Table of Contents",
   "title_sidebar": "Contents",
   "toc_cell": false,
   "toc_position": {},
   "toc_section_display": true,
   "toc_window_display": false
  },
  "varInspector": {
   "cols": {
    "lenName": 16,
    "lenType": 16,
    "lenVar": 40
   },
   "kernels_config": {
    "python": {
     "delete_cmd_postfix": "",
     "delete_cmd_prefix": "del ",
     "library": "var_list.py",
     "varRefreshCmd": "print(var_dic_list())"
    },
    "r": {
     "delete_cmd_postfix": ") ",
     "delete_cmd_prefix": "rm(",
     "library": "var_list.r",
     "varRefreshCmd": "cat(var_dic_list()) "
    }
   },
   "types_to_exclude": [
    "module",
    "function",
    "builtin_function_or_method",
    "instance",
    "_Feature"
   ],
   "window_display": false
  }
 },
 "nbformat": 4,
 "nbformat_minor": 5
}
